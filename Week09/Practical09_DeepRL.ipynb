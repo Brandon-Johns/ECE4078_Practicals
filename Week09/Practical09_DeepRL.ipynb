{
 "cells": [
  {
   "cell_type": "markdown",
   "metadata": {},
   "source": [
    "# <center>Practical 09: Part 2 - Deep RL</center>"
   ]
  },
  {
   "cell_type": "markdown",
   "metadata": {},
   "source": [
    "<p style=\"color:#0000FF\";> <b>Let's first make sure that all the required dependencies are installed (you can skip this step if dependencies are already installed)</b></p> \n",
    "\n",
    "### With pip (in your local machine)\n",
    "1. Open Anaconda prompt\n",
    "2. Type ``pip install gym``\n",
    "3. If pip is missing, type ``conda install pip``\n",
    "4. If using a GPU, type ``pip install torch==1.6.0+cu101 torchvision==0.7.0+cu101 -f https://download.pytorch.org/whl/torch_stable.html``\n",
    "5. If using a CPU, type ``pip install torch==1.6.0+cpu torchvision==0.7.0+cpu -f https://download.pytorch.org/whl/torch_stable.html``\n",
    "\n",
    "### In AWS\n",
    "1. Add and execute the following line at the beginning of your notebook\n",
    "```python \n",
    "import sys\n",
    "!{sys.executable} -m pip install gym```\n",
    "2. Kernels with ``torchvision`` and ``pytorch`` are already installed and ready to be used\n",
    "3. Go to ``Kernel -> Change kernel`` and select ``conda_pytorch_latest_p36``"
   ]
  },
  {
   "cell_type": "markdown",
   "metadata": {},
   "source": [
    "# CartPole Environment\n",
    "\n",
    "In this notebook, we will use DQN to solve the Cart-Pole environment.\n",
    "\n",
    "<img src=\"Support/images/cartPole.gif\" height=\"400\" width=\"400\" align=\"center\">\n",
    "\n",
    "## State Space\n",
    "The state space of this environment is defined by a 4-tuple where each value represents:\n",
    "\n",
    "<img src=\"Support/images/cartPole_actionSpace.png\" height=\"400\" width=\"400\" align=\"center\">\n",
    "\n",
    "## Action Space\n",
    "There are just two possible discrete actions\n",
    "\n",
    "<table>\n",
    "<thead>\n",
    "<tr>\n",
    "<th>Num</th>\n",
    "<th>Action</th>\n",
    "</tr>\n",
    "</thead>\n",
    "<tbody>\n",
    "<tr>\n",
    "<td>0</td>\n",
    "<td>Push cart to the left</td>\n",
    "</tr>\n",
    "<tr>\n",
    "<td>1</td>\n",
    "<td>Push cart to the right</td>\n",
    "    </tr>\n",
    "</table>\n",
    "\n",
    "## Rewards\n",
    "\n",
    "Reward is 1 for every step taken, including the termination step\n",
    "\n",
    "## Other Considerations\n",
    "- When choosing the starting state, all observations are assigned a uniform random value in [-0.05..0.05]\n",
    "- An episode is considered as terminated if:\n",
    "    - Pole Angle is more than 12 degrees.\n",
    "    - Cart Position is more than 2.4 (center of the cart reaches the edge of the display).\n",
    "    - Episode length is greater than 200.\n",
    "    \n",
    "    \n",
    "**The environment is considered to be solved when the average return is greater than or equal to 195.0 over 100 consecutive trials.**"
   ]
  },
  {
   "cell_type": "code",
   "execution_count": 1,
   "metadata": {},
   "outputs": [],
   "source": [
    "# Import all required dependencies\n",
    "\n",
    "import gym\n",
    "import math\n",
    "import random\n",
    "import numpy as np\n",
    "from collections import namedtuple\n",
    "import copy\n",
    "from itertools import count\n",
    "\n",
    "import torch\n",
    "import torch.nn as nn\n",
    "import torch.optim as optim\n",
    "import torch.autograd as autograd \n",
    "\n",
    "\n",
    "import matplotlib.pyplot as plt\n",
    "%matplotlib inline\n",
    "\n",
    "import io\n",
    "import base64\n",
    "from IPython.display import HTML\n",
    "from IPython.display import clear_output\n",
    "\n",
    "import sys\n",
    "import os\n",
    "sys.path.insert(0, os.path.abspath('Support'))\n",
    "\n",
    "# BJ START - temporary fix to a bug causing the error\n",
    "#    OMP: Error #15: Initializing libiomp5md.dll, but found libiomp5md.dll already initialized.\n",
    "#    OMP: Hint This means that multiple copies of the OpenMP runtime have been linked into the program. That is dangerous, since it can degrade performance or cause incorrect results. The best thing to do is to ensure that only a single OpenMP runtime is linked into the process, e.g. by avoiding static linking of the OpenMP runtime in any library. As an unsafe, unsupported, undocumented workaround you can set the environment variable KMP_DUPLICATE_LIB_OK=TRUE to allow the program to continue to execute, but that may cause crashes or silently produce incorrect results. For more information, please see http://www.intel.com/software/products/support/.\n",
    "# Few potential solutions - haven't tried any yet\n",
    "#    https://stackoverflow.com/questions/20554074/sklearn-omp-error-15-when-fitting-models\n",
    "#    https://stackoverflow.com/questions/53648730/omp-error-15-initializing-libiomp5-dylib-but-found-libiomp5-dylib-already-in/\n",
    "#    https://stackoverflow.com/questions/49880700/tensorflow-omp-error-15-when-training\n",
    "os.environ[\"KMP_DUPLICATE_LIB_OK\"]=\"TRUE\"\n",
    "# BJ END\n",
    "\n",
    "# if gpu is to be used\n",
    "device = torch.device(\"cuda\" if torch.cuda.is_available() else \"cpu\")"
   ]
  },
  {
   "cell_type": "markdown",
   "metadata": {},
   "source": [
    "## DQN Algorithm\n",
    "\n",
    "With a random policy, the cart pole control is very poor. We got only 13 points as return.\n",
    "\n",
    "Let's use Deep Q-learning to improve the performance of the cart pole"
   ]
  },
  {
   "cell_type": "code",
   "execution_count": 2,
   "metadata": {},
   "outputs": [
    {
     "data": {
      "text/html": [
       "\n",
       "    <video width=\"360\" height=\"auto\" alt=\"test\" controls><source src=\"data:video/mp4;base64,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\" type=\"video/mp4\" /></video>"
      ],
      "text/plain": [
       "<IPython.core.display.HTML object>"
      ]
     },
     "execution_count": 2,
     "metadata": {},
     "output_type": "execute_result"
    }
   ],
   "source": [
    "video = io.open('Support/images/randomPolicy.mp4', 'r+b').read()\n",
    "encoded = base64.b64encode(video)\n",
    "HTML(data='''\n",
    "    <video width=\"360\" height=\"auto\" alt=\"test\" controls><source src=\"data:video/mp4;base64,{0}\" type=\"video/mp4\" /></video>'''\n",
    ".format(encoded.decode('ascii')))"
   ]
  },
  {
   "cell_type": "markdown",
   "metadata": {},
   "source": [
    "Our implementation follows the algorithm proposed by *Mnih et .al* in  <a href=\"https://www.cs.toronto.edu/~vmnih/docs/dqn.pdf\">Playing Atari with Deep Reinforcement Learning</a> \n",
    "\n",
    "<img src=\"Support/images/dqn_replay.png\" width=\"600\" height=\"600\" align=\"center\">\n",
    "\n",
    "We have decomposed the algorithm shown above into:\n",
    "- A ReplayMemory class to represent and encode the Replay Buffer\n",
    "- A DQN class to represent our NN function approximator\n",
    "- An agent class which contains the learning logic of the algorithm\n",
    "- A main loop in which transition tuples ('state', 'action', 'next_state', 'reward', 'done') are generated and added to the replay buffer. This loop also calls the agent ``optimize(.)`` method to train our approximator\n"
   ]
  },
  {
   "cell_type": "markdown",
   "metadata": {},
   "source": [
    "### Replay Buffer\n",
    "\n",
    "Let's first define our representation of the replay buffer. To do so, we will use the class ``ReplayMemory`` shown below"
   ]
  },
  {
   "cell_type": "code",
   "execution_count": 3,
   "metadata": {},
   "outputs": [],
   "source": [
    "# This tuple represents one observation in our environment\n",
    "Transition = namedtuple('Transition',\n",
    "                        ('state', 'action', 'next_state', 'reward', 'done'))\n",
    "\n",
    "class ReplayMemory:\n",
    "    \"\"\"\n",
    "    A cyclic buffer of bounded size (capacity) that holds the transitions \n",
    "    observed recently. \n",
    "    \n",
    "    It also implements a sample() method for selecting a random \n",
    "    batch of transitions for training.\n",
    "    \"\"\"\n",
    "    def __init__(self, capacity):\n",
    "        self.capacity = capacity\n",
    "        self.memory = []\n",
    "        self.position = 0\n",
    "\n",
    "    def push(self, *args):\n",
    "        \"\"\"Saves a transition.\"\"\"\n",
    "        if len(self.memory) < self.capacity:\n",
    "            self.memory.append(None)\n",
    "        self.memory[self.position] = Transition(*args)\n",
    "        self.position = (self.position + 1) % self.capacity\n",
    "\n",
    "    def sample(self, batch_size):\n",
    "        \"\"\"Returns a minibatch of `Transition` randomly\n",
    "        Args:\n",
    "            batch_size (int): Size of mini-bach\n",
    "        Returns:\n",
    "            List[Transition]: Minibatch of `Transition`\n",
    "        \"\"\"\n",
    "        return random.sample(self.memory, batch_size)\n",
    "\n",
    "    def __len__(self):\n",
    "        \"\"\"Returns the length \"\"\"\n",
    "        return len(self.memory)"
   ]
  },
  {
   "cell_type": "markdown",
   "metadata": {},
   "source": [
    "### DQN Network\n",
    "\n",
    "Let us now define the Multi Layer Perceptron network that will be used as the function approximator for the action-value function (q-function)"
   ]
  },
  {
   "cell_type": "code",
   "execution_count": 4,
   "metadata": {},
   "outputs": [],
   "source": [
    "class DQN(nn.Module):\n",
    "    \"\"\"DQN Network\n",
    "        Args:\n",
    "        input_dim (int): `state` dimension.\n",
    "        output_dim (int): Number of actions.\n",
    "        hidden_dim (int): Hidden dimension in fully connected layer\n",
    "    \"\"\"\n",
    "    def __init__(self, num_inputs=4, num_actions=2, hidden_dim=128):\n",
    "        super(DQN, self).__init__()\n",
    "        \n",
    "        self.layers = nn.Sequential(\n",
    "            nn.Linear(num_inputs, hidden_dim),\n",
    "            nn.ReLU(),\n",
    "            nn.Linear(hidden_dim, hidden_dim),\n",
    "            nn.ReLU(),\n",
    "            nn.Linear(hidden_dim, num_actions)\n",
    "        )\n",
    "        \n",
    "    def forward(self, x):\n",
    "        \"\"\"Returns a Q_value\n",
    "        Args:\n",
    "            x (torch.Tensor): `State` 2-D tensor of shape (n, num_inputs)\n",
    "        Returns:\n",
    "            torch.Tensor: Q_value, 2-D tensor of shape (n, num_actions)\n",
    "        \"\"\"\n",
    "        return self.layers(x)"
   ]
  },
  {
   "cell_type": "markdown",
   "metadata": {},
   "source": [
    "### DQN Agent\n",
    "\n",
    "This class contains the main steps of the Deep Q-learnig algorithm (highlighted in blue) in the image shown above.\n",
    "\n",
    "**TODO**: \n",
    "- Complete the computation of the target value. Use the variables ``non_final_mask`` and ``non_final_next_states`` to do so.\n",
    "- Compute the loss. That is the difference between the target q-values (``expected_q``) and the values estimated by the network (``predicted_q``). Use the attribute ``self.loss_fn(.)``.\n",
    "\n",
    "Keep in mind how the targets are computed in the original algorithm\n",
    "\n",
    "<img src=\"Support/images/targets.png\" width=\"600\" height=\"600\" align=\"center\">"
   ]
  },
  {
   "cell_type": "code",
   "execution_count": 5,
   "metadata": {},
   "outputs": [],
   "source": [
    "class DQNAgent(object):\n",
    "    \"\"\"DQN Agent\n",
    "    This class contains the main steps of the DQN algorithm\n",
    "    \n",
    "    Attributes:\n",
    "    policy_net (DQN): Function approximator for our target q function\n",
    "    loss_fn (MSELoss): Criterion that measures the mean squared error (squared L2 norm) \n",
    "                       between each element of the predicted and target q-values.\n",
    "    optimizer (Adam): Stochastic gradient optimizer\n",
    "    gamma (float): Discount factor\n",
    "    \"\"\"\n",
    "    \n",
    "    def __init__(self, seed=123, input_dim=4, output_dim=2, \n",
    "                 hidden_dim=128, gamma=0.99):\n",
    "        \"\"\"\n",
    "        Define instance of DQNAgent\n",
    "        Args:\n",
    "        seed (int): Value used to initialize random number generator\n",
    "        input_dim (int): `state` dimension.\n",
    "        output_dim (int): Number of actions.\n",
    "        hidden_dim (int): Hidden dimension in fully connected layer\n",
    "        \"\"\"\n",
    "        torch.manual_seed(seed)\n",
    "        self.policy_net = DQN(input_dim, output_dim, hidden_dim).to(device)\n",
    "                \n",
    "        self.loss_fn = nn.MSELoss()\n",
    "        self.optimizer = optim.Adam(self.policy_net.parameters(), lr=0.001)\n",
    "                \n",
    "        self.gamma = torch.tensor(gamma).float().to(device)\n",
    "        \n",
    "    def get_action(self, state, action_space_dim, epsilon):\n",
    "        \"\"\"\n",
    "        Select next action using epsilon-greedy policy\n",
    "        Args:\n",
    "        epsilon (float): Threshold used to decide whether a random or maximum-value action \n",
    "                         should be taken next\n",
    "         Returns:\n",
    "            int: action index\n",
    "        \"\"\"        \n",
    "        with torch.no_grad():\n",
    "            cur_q = self.policy_net(torch.from_numpy(state).float().to(device))\n",
    "        q_value, action = torch.max(cur_q, axis=0)\n",
    "        action = action if torch.rand(1,).item() > epsilon else torch.randint(0, action_space_dim, (1,)).item()\n",
    "        action = torch.tensor([action]).to(device)\n",
    "        return action\n",
    "    \n",
    "    def get_next_q(self, state):\n",
    "        \"\"\"Returns Q_value for maximum valued action at each state s\n",
    "        Args:\n",
    "            x (torch.Tensor): `State` 2-D tensor of shape (n, num_inputs)\n",
    "        Returns:\n",
    "            torch.Tensor: Q_value, 1 tensor of shape (n)\n",
    "        \"\"\"\n",
    "        with torch.no_grad():\n",
    "            next_q = self.policy_net(state)\n",
    "        q, _ = torch.max(next_q, axis=1)\n",
    "        return q\n",
    "    \n",
    "    def optimize(self, batch):\n",
    "        \"\"\"Computes `loss` and backpropagation\n",
    "        Args:\n",
    "            batch: List[Transition]: Minibatch of `Transition`\n",
    "        Returns:\n",
    "            float: loss value\n",
    "        \"\"\"\n",
    "        \n",
    "        state_batch = torch.stack(batch.state)\n",
    "        action_batch = torch.stack(batch.action)\n",
    "        reward_batch = torch.stack(batch.reward)\n",
    "        next_state_batch = torch.stack(batch.next_state)\n",
    "                \n",
    "        # Compute a mask of non-final states and concatenate the batch elements\n",
    "        # (a final state is the one after which the simulation ends)\n",
    "        non_final_mask = torch.tensor(tuple(map(lambda s: s.item() is not True,\n",
    "                                          batch.done)), device=device, dtype=torch.bool)\n",
    "        non_final_next_states = torch.stack([s for i, s in enumerate(batch.next_state)\n",
    "                                            if batch.done[i].item() is not True])\n",
    "\n",
    "        # Compute predicted q-values\n",
    "        predicted_q = self.policy_net(state_batch).gather(1, action_batch).reshape(1,-1)\n",
    "        \n",
    "        # TODO 1: Compute expected values for non-terminal and terminal states (this is our TD target)\n",
    "        target_q = torch.zeros(len(batch.state), device=device)\n",
    "        target_q[non_final_mask] = self.get_next_q(non_final_next_states)\n",
    "        expected_q = reward_batch.reshape(1,-1)+(self.gamma * target_q)\n",
    "\n",
    "        # TODO 2: Compute loss \n",
    "        loss = self.loss_fn(expected_q, predicted_q)\n",
    "        \n",
    "        # Use loss to compute gradient and update policy parameters through backpropagation\n",
    "        self.optimizer.zero_grad()\n",
    "        loss.backward(retain_graph=True)\n",
    "        self.optimizer.step()\n",
    "                \n",
    "        return loss.item()\n"
   ]
  },
  {
   "cell_type": "markdown",
   "metadata": {},
   "source": [
    "### This function will help us to see the progress of our DQN Agent during training"
   ]
  },
  {
   "cell_type": "code",
   "execution_count": 6,
   "metadata": {},
   "outputs": [],
   "source": [
    "def plot(frame_idx, rewards, losses):\n",
    "    \"\"\"\n",
    "    Plot evolution of rewards and losses during training\n",
    "    Args:\n",
    "         rewards (list): Cummulative rewards for episodes seen so far\n",
    "         losses (list): Prediction error at each training step\n",
    "    \n",
    "    \"\"\"\n",
    "    clear_output(True)\n",
    "    plt.figure(figsize=(20,5))\n",
    "    plt.subplot(131)\n",
    "    plt.title('Steps %s.\\nCummulative reward last 10 episodes: %s' % (frame_idx, np.mean(rewards[-10:])))\n",
    "    plt.plot(rewards)\n",
    "    plt.ylabel(\"Avg. cummulative reward\")\n",
    "    plt.xlabel(\"No. of steps\")\n",
    "    plt.subplot(132)\n",
    "    plt.title('MSE Loss')\n",
    "    plt.ylabel(\"Avg. cummulative reward\")\n",
    "    plt.xlabel(\"No. of steps\")\n",
    "    plt.plot(losses)\n",
    "    plt.show()"
   ]
  },
  {
   "cell_type": "markdown",
   "metadata": {},
   "source": [
    "### Running Parameters"
   ]
  },
  {
   "cell_type": "code",
   "execution_count": 7,
   "metadata": {},
   "outputs": [],
   "source": [
    "# Define running hyper-parameters and epsilon training sequence\n",
    "memory_capacity = 1000\n",
    "batch_size = 32\n",
    "env_name = \"CartPole-v0\"\n",
    "num_frames = 10000\n",
    "epsilon_start = 1.0\n",
    "epsilon_end = 0.01\n",
    "epsilon_decay = 1500\n",
    "gamma = 0.99\n",
    "hidden_dim = 128\n",
    "\n",
    "epsilon_by_step = lambda frame_idx: epsilon_end + (epsilon_start - epsilon_end) * math.exp(-1. * frame_idx / epsilon_decay)"
   ]
  },
  {
   "cell_type": "code",
   "execution_count": 8,
   "metadata": {},
   "outputs": [
    {
     "data": {
      "text/plain": [
       "Text(0, 0.5, 'Epsilon')"
      ]
     },
     "execution_count": 8,
     "metadata": {},
     "output_type": "execute_result"
    },
    {
     "data": {
      "image/png": "[encoded data removed]",
      "text/plain": [
       "<Figure size 288x288 with 1 Axes>"
      ]
     },
     "metadata": {
      "needs_background": "light"
     },
     "output_type": "display_data"
    }
   ],
   "source": [
    "fig, ax = plt.subplots(figsize=(4, 4))\n",
    "\n",
    "ax.plot([epsilon_by_step(i) for i in range(num_frames)])\n",
    "ax.set_xlabel(\"Num. episodes\")\n",
    "ax.set_ylabel(\"Epsilon\")"
   ]
  },
  {
   "cell_type": "markdown",
   "metadata": {},
   "source": [
    "### Main Loop and Replay Buffer Control\n",
    "\n",
    "This is the main loop of our DQN implementation. Here we generate the samples added to the replay memory and train the agent using a batch sampled for the replay memory"
   ]
  },
  {
   "cell_type": "code",
   "execution_count": 9,
   "metadata": {},
   "outputs": [
    {
     "data": {
      "image/png": "[encoded data removed]",
      "text/plain": [
       "<Figure size 1440x360 with 2 Axes>"
      ]
     },
     "metadata": {
      "needs_background": "light"
     },
     "output_type": "display_data"
    }
   ],
   "source": [
    "# Define varibles for plotting\n",
    "losses_list, rewards_list, episode_len_list = [], [], []\n",
    "list_epsilon = []\n",
    "\n",
    "# Create instance of reply buffer\n",
    "replay_buffer = ReplayMemory(memory_capacity)\n",
    "\n",
    "# Create environment\n",
    "env = gym.make(env_name)\n",
    "n_actions = env.action_space.n\n",
    "dim_state = env.observation_space.shape[0]\n",
    "\n",
    "# Create agent\n",
    "agent = DQNAgent(seed=1234, input_dim=dim_state, \n",
    "                 output_dim=n_actions, \n",
    "                 hidden_dim=hidden_dim, gamma=gamma)\n",
    "\n",
    "# Reset environment and set all counters and cummulative varibles to zero\n",
    "state, ep_len, losses, episode_reward = env.reset(), 0, 0, 0\n",
    "\n",
    "for frame_idx in range(1, num_frames + 1):    \n",
    "    # Get epsilon\n",
    "    cur_epsilon = epsilon_by_step(frame_idx)\n",
    "    \n",
    "    # Sample action using e-greedy policy\n",
    "    action = agent.get_action(state, n_actions, cur_epsilon)\n",
    "    \n",
    "    # Apply action and observe changes in the environment\n",
    "    next_state, reward, done, _ = env.step(action.item())\n",
    "    episode_reward += reward\n",
    "    \n",
    "    # Transform observation into Transition tuple\n",
    "    t_s = torch.tensor(state).float().to(device)\n",
    "    t_r = torch.tensor([reward]).float().to(device)\n",
    "    t_ns = torch.tensor(next_state).float().to(device)\n",
    "    t_a = action.to(device)\n",
    "    t_done = torch.tensor([done]).bool().to(device)\n",
    "                \n",
    "    # Add new sample to replay buffer\n",
    "    replay_buffer.push(t_s, t_a, t_ns, t_r, t_done)\n",
    "    state = next_state\n",
    "    \n",
    "    ep_len += 1\n",
    "    \n",
    "    # If current episode has finished, reset environment and counters for next episode\n",
    "    if done:\n",
    "        state = env.reset()\n",
    "        rewards_list.append(episode_reward)\n",
    "        episode_len_list.append(ep_len)\n",
    "        episode_reward, ep_len = 0, 0\n",
    "    \n",
    "    # If replay buffer has at least batch_size elements, sample batch and train approximator\n",
    "    if len(replay_buffer) > batch_size:\n",
    "        transitions = replay_buffer.sample(batch_size)\n",
    "        batch = Transition(*zip(*transitions))\n",
    "        loss = agent.optimize(batch)\n",
    "        losses_list.append(loss)\n",
    "    \n",
    "    # Every 200 steps we plot the approximator's progress and performance\n",
    "    if frame_idx % 200 == 0:\n",
    "        plot(frame_idx, rewards_list, losses_list)"
   ]
  },
  {
   "cell_type": "markdown",
   "metadata": {},
   "source": [
    "### Let's now test our trained model\n",
    "\n",
    "Can we do better than the random policy?\n",
    "\n",
    "**Note**: If running in AWS, the visualization will not work. To get the code below running without issue, replace \n",
    "```python\n",
    "env = wrappers.Monitor(env, \"./gym-results\", force=True)\n",
    "```\n",
    "with\n",
    "\n",
    "```python\n",
    "env = wrappers.Monitor(env, \"./gym-results\", force=True, video_callable=False)\n",
    "\n",
    "```\n",
    "You can verify the performance of your agent by looking at the cummulative reward "
   ]
  },
  {
   "cell_type": "code",
   "execution_count": 10,
   "metadata": {},
   "outputs": [
    {
     "data": {
      "text/plain": [
       "Text(0.5, 1.0, 'Average return 189.02 +- 12.28')"
      ]
     },
     "execution_count": 10,
     "metadata": {},
     "output_type": "execute_result"
    },
    {
     "data": {
      "image/png": "[encoded data removed]",
      "text/plain": [
       "<Figure size 288x288 with 1 Axes>"
      ]
     },
     "metadata": {
      "needs_background": "light"
     },
     "output_type": "display_data"
    }
   ],
   "source": [
    "from gym import wrappers\n",
    "\n",
    "env = gym.make(\"CartPole-v0\")\n",
    "env = wrappers.Monitor(env, \"./gym-results\", force=True, video_callable=False)\n",
    "n_trials = 100\n",
    "list_rewards = []\n",
    "\n",
    "for i in range(n_trials):\n",
    "    observation = env.reset()\n",
    "    ep_return = 0\n",
    "    done = False\n",
    "    while not done:\n",
    "        action = agent.get_action(observation, n_actions, 0.01)\n",
    "        observation, reward, done, info = env.step(action.item())\n",
    "        ep_return += reward\n",
    "    list_rewards.append(ep_return)\n",
    "env.close()\n",
    "\n",
    "fig, ax = plt.subplots(figsize=(4, 4))\n",
    "ax.plot(list_rewards)\n",
    "ax.set_xlabel(\"Num. Trial\")\n",
    "ax.set_ylabel(\"Return\")\n",
    "ax.set_title('Average return %s +- %s' % (np.round(np.mean(list_rewards),2), np.round(np.std(list_rewards), 2)))"
   ]
  },
  {
   "cell_type": "markdown",
   "metadata": {},
   "source": [
    "### This is an example of the performance obtained after training the agent with the hyper-parameters listed above"
   ]
  },
  {
   "cell_type": "code",
   "execution_count": 11,
   "metadata": {},
   "outputs": [
    {
     "data": {
      "text/html": [
       "\n",
       "    <video width=\"360\" height=\"auto\" alt=\"test\" controls><source src=\"data:video/mp4;base64,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\" type=\"video/mp4\" /></video>"
      ],
      "text/plain": [
       "<IPython.core.display.HTML object>"
      ]
     },
     "execution_count": 11,
     "metadata": {},
     "output_type": "execute_result"
    }
   ],
   "source": [
    "import io\n",
    "import base64\n",
    "from IPython.display import HTML\n",
    "\n",
    "video = io.open('./Support/images/cartPole_learned.mp4', 'r+b').read()\n",
    "encoded = base64.b64encode(video)\n",
    "HTML(data='''\n",
    "    <video width=\"360\" height=\"auto\" alt=\"test\" controls><source src=\"data:video/mp4;base64,{0}\" type=\"video/mp4\" /></video>'''\n",
    ".format(encoded.decode('ascii')))"
   ]
  },
  {
   "cell_type": "code",
   "execution_count": null,
   "metadata": {},
   "outputs": [],
   "source": []
  }
 ],
 "metadata": {
  "kernelspec": {
   "display_name": "Python 3",
   "language": "python",
   "name": "python3"
  },
  "language_info": {
   "codemirror_mode": {
    "name": "ipython",
    "version": 3
   },
   "file_extension": ".py",
   "mimetype": "text/x-python",
   "name": "python",
   "nbconvert_exporter": "python",
   "pygments_lexer": "ipython3",
   "version": "3.8.3"
  }
 },
 "nbformat": 4,
 "nbformat_minor": 4
}
